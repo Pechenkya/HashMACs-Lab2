{
 "cells": [
  {
   "cell_type": "code",
   "execution_count": 1,
   "metadata": {},
   "outputs": [],
   "source": [
    "import hashlib as hl                    # sha1\n",
    "import secrets as rnd                   # randbelow, choice\n",
    "import random as rnd2\n",
    "import os, sys                          # output and logging\n",
    "import numpy as np, scipy.stats as sp   # stats calculations\n",
    "import matplotlib.pyplot as plt         # plotting\n",
    "\n",
    "n = 32\n",
    "n_bytes = n // 8\n",
    "pad_w = 128 - n\n"
   ]
  },
  {
   "cell_type": "code",
   "execution_count": 2,
   "metadata": {},
   "outputs": [],
   "source": [
    "# Function to generate <bits>-bit value\n",
    "def generate(bits=256):\n",
    "    return rnd.token_bytes(bits // 8)\n",
    "\n",
    "def bytearr_to_bitstr(bytestr):\n",
    "    return ''.join(format(b, '08b') for b in bytestr)\n",
    "\n",
    "def h_n_bytes(byts):\n",
    "    return hl.sha1(byts).digest()[-n_bytes:]"
   ]
  },
  {
   "cell_type": "code",
   "execution_count": 3,
   "metadata": {},
   "outputs": [
    {
     "name": "stdout",
     "output_type": "stream",
     "text": [
      "b'\\x8b\\xc1\\xf2C\\xfd\\xcf>\\x92\\x1d\\xa0\\x12\\xab\\xff\\xf0\\x99\\x82\\xe3p_\\xd6\\xceV\\x92F\\x9f\\xf6\\x85\\xda\\xa5\\xe1\\xca\\x14'\n"
     ]
    },
    {
     "data": {
      "text/plain": [
       "32"
      ]
     },
     "execution_count": 3,
     "metadata": {},
     "output_type": "execute_result"
    }
   ],
   "source": [
    "# def generate_bits(bits=256):\n",
    "#     return rnd.randbits(bits).to_bytes(bits // 8, sys.byteorder)\n",
    "\n",
    "def generate_bits(bits=256):\n",
    "    return rnd2.randbytes(bits // 8)\n",
    "\n",
    "a = generate_bits(256)\n",
    "print(a)\n",
    "len(a)"
   ]
  },
  {
   "cell_type": "code",
   "execution_count": 4,
   "metadata": {},
   "outputs": [],
   "source": [
    "def gen_pre_table(K, L):\n",
    "    r = generate_bits(pad_w)\n",
    "    def R(x):\n",
    "        return r + x\n",
    "\n",
    "    X = {}\n",
    "\n",
    "    for _ in range(K):\n",
    "        x0 = generate_bits(n) \n",
    "        value = x0\n",
    "        for _ in range(L):\n",
    "            value = h_n_bytes(R(value))\n",
    "        X[value] = x0\n",
    "    \n",
    "    return [X, r]\n",
    "\n",
    "def find_preimage(L, p_table, r, hash_val):\n",
    "    def R(x):\n",
    "        return r + x    \n",
    "\n",
    "    y = hash_val\n",
    "\n",
    "    j_found = -1\n",
    "    for j in range(L):\n",
    "        # Check all i for xiL == y\n",
    "        if y in p_table:\n",
    "            j_found = j\n",
    "            break\n",
    "\n",
    "        # Next itr\n",
    "        y = h_n_bytes(R(y))\n",
    "    \n",
    "    if j_found != -1:\n",
    "        x = p_table[y]\n",
    "        for _ in range(L - j_found):\n",
    "            x = h_n_bytes(R(x))\n",
    "        return [R(x), True]\n",
    "\n",
    "    # Error\n",
    "    return [None, False]\n",
    "    "
   ]
  },
  {
   "cell_type": "code",
   "execution_count": 2,
   "metadata": {},
   "outputs": [
    {
     "ename": "TypeError",
     "evalue": "foo() missing 1 required positional argument: 'b'",
     "output_type": "error",
     "traceback": [
      "\u001b[1;31m---------------------------------------------------------------------------\u001b[0m",
      "\u001b[1;31mTypeError\u001b[0m                                 Traceback (most recent call last)",
      "Cell \u001b[1;32mIn[2], line 4\u001b[0m\n\u001b[0;32m      1\u001b[0m \u001b[38;5;28;01mdef\u001b[39;00m \u001b[38;5;21mfoo\u001b[39m(a, b):\n\u001b[0;32m      2\u001b[0m     \u001b[38;5;28mprint\u001b[39m(a, b)\n\u001b[1;32m----> 4\u001b[0m \u001b[43mfoo\u001b[49m\u001b[43m(\u001b[49m\u001b[43m[\u001b[49m\u001b[38;5;241;43m1\u001b[39;49m\u001b[43m,\u001b[49m\u001b[43m \u001b[49m\u001b[38;5;241;43m2\u001b[39;49m\u001b[43m]\u001b[49m\u001b[43m)\u001b[49m\n",
      "\u001b[1;31mTypeError\u001b[0m: foo() missing 1 required positional argument: 'b'"
     ]
    }
   ],
   "source": [
    "def foo(a, b):\n",
    "    print(a, b)\n",
    "\n",
    "foo([1, 2])"
   ]
  },
  {
   "cell_type": "code",
   "execution_count": 4,
   "metadata": {},
   "outputs": [
    {
     "ename": "KeyboardInterrupt",
     "evalue": "",
     "output_type": "error",
     "traceback": [
      "\u001b[1;31m---------------------------------------------------------------------------\u001b[0m",
      "\u001b[1;31mKeyboardInterrupt\u001b[0m                         Traceback (most recent call last)",
      "Cell \u001b[1;32mIn[4], line 11\u001b[0m\n\u001b[0;32m      9\u001b[0m \u001b[38;5;28;01mfor\u001b[39;00m i \u001b[38;5;129;01min\u001b[39;00m \u001b[38;5;28mrange\u001b[39m(\u001b[38;5;241m1\u001b[39m, K \u001b[38;5;241m+\u001b[39m \u001b[38;5;241m1\u001b[39m):\n\u001b[0;32m     10\u001b[0m     \u001b[38;5;28;01mfor\u001b[39;00m j \u001b[38;5;129;01min\u001b[39;00m \u001b[38;5;28mrange\u001b[39m(L):\n\u001b[1;32m---> 11\u001b[0m         \u001b[38;5;28msum\u001b[39m \u001b[38;5;241m+\u001b[39m\u001b[38;5;241m=\u001b[39m (\u001b[38;5;241m1\u001b[39m\u001b[38;5;241m-\u001b[39m i\u001b[38;5;241m*\u001b[39mL \u001b[38;5;241m/\u001b[39m N)\u001b[38;5;241m*\u001b[39m\u001b[38;5;241m*\u001b[39mj \u001b[38;5;241m/\u001b[39m N\n",
      "\u001b[1;31mKeyboardInterrupt\u001b[0m: "
     ]
    }
   ],
   "source": [
    "import numpy as np\n",
    "\n",
    "N = 2**32\n",
    "K = 2**20\n",
    "L = 2**11\n",
    "\n",
    "\n",
    "sum = 0\n",
    "for i in range(1, K + 1):\n",
    "    for j in range(L):\n",
    "        sum += (1- i*L / N)**j / N"
   ]
  },
  {
   "cell_type": "code",
   "execution_count": null,
   "metadata": {},
   "outputs": [],
   "source": [
    "np.reduce()"
   ]
  },
  {
   "cell_type": "code",
   "execution_count": 3,
   "metadata": {},
   "outputs": [
    {
     "name": "stdout",
     "output_type": "stream",
     "text": [
      "0.0057360695389981255\n"
     ]
    }
   ],
   "source": [
    "print(sum)"
   ]
  },
  {
   "cell_type": "code",
   "execution_count": 5,
   "metadata": {},
   "outputs": [
    {
     "name": "stdout",
     "output_type": "stream",
     "text": [
      "b'x\\xf3\\x87\\t'\n",
      "Table rdy!\n",
      "b'\\xab\\x8a\\x85\\xb3\\xd6U\\x1a\\x9aB\\x1b\\xdbIrqz\\xbb'\n",
      "b'\\x85\\x0c\\xb89'\n"
     ]
    }
   ],
   "source": [
    "K_test = 2**12\n",
    "L_test = 2**12\n",
    "\n",
    "value = generate(256)\n",
    "h_val = h_n_bytes(value)\n",
    "\n",
    "print(h_val)\n",
    "\n",
    "X, r = gen_pre_table(K_test, L_test)\n",
    "print(\"Table rdy!\")\n",
    "preimage, found = find_preimage(L_test, X, r, h_val)\n",
    "\n",
    "if found:\n",
    "    print(preimage)\n",
    "    print(h_n_bytes(preimage))\n",
    "else:\n",
    "    print(\"No succ? :(\")\n"
   ]
  },
  {
   "cell_type": "code",
   "execution_count": 6,
   "metadata": {},
   "outputs": [],
   "source": [
    "from concurrent.futures import ProcessPoolExecutor, wait\n",
    "from multiprocessing import Manager\n",
    "\n",
    "\n",
    "def run_cpu_tasks_in_parallel(tasks, *parameters):\n",
    "    print(*parameters)\n",
    "    with ProcessPoolExecutor() as executor:\n",
    "        running_tasks = [executor.submit(task, *parameters) for task in tasks]\n",
    "        for running_task in running_tasks:\n",
    "            running_task.result()\n",
    "        # wait(running_tasks)\n",
    "\n",
    "def R(r, x):\n",
    "    return r + x\n",
    "\n",
    "def append_value(data_pool, L, r):\n",
    "    x0 = generate(n) \n",
    "    value = x0\n",
    "    print(x0)\n",
    "    for _ in range(L):\n",
    "        value = h_n_bytes(R(r, value))\n",
    "    print(value)\n",
    "    data_pool[value] = x0\n",
    "\n",
    "def gen_pre_table_parallel(K, L):\n",
    "    r = generate(pad_w)\n",
    "\n",
    "    X = {}\n",
    "    with Manager() as mng:\n",
    "        m_dict = mng.dict()\n",
    "\n",
    "        run_cpu_tasks_in_parallel([append_value]*K, m_dict, L, r)\n",
    "        print(m_dict)\n",
    "        X = m_dict.copy()\n",
    "        \n",
    "    return [X, r]"
   ]
  },
  {
   "cell_type": "code",
   "execution_count": 7,
   "metadata": {},
   "outputs": [
    {
     "data": {
      "text/plain": [
       "b'\\x88\\x84\\\\ '"
      ]
     },
     "execution_count": 7,
     "metadata": {},
     "output_type": "execute_result"
    }
   ],
   "source": [
    "h_n_bytes(b'1T\\xb1?A\\xacq\\xfe\\x96\\xa8\\xdcJ\\x1c\\x88\\xf2\\xc0')"
   ]
  },
  {
   "cell_type": "code",
   "execution_count": 8,
   "metadata": {},
   "outputs": [
    {
     "name": "stdout",
     "output_type": "stream",
     "text": [
      "b'x\\xf3\\x87\\t'\n",
      "{} 4096 b'\\x0c\\r\\xb0\\xca\\xd5$\\xa6\\xca\\xe3\\x10\\xfaG'\n"
     ]
    },
    {
     "ename": "BrokenProcessPool",
     "evalue": "A child process terminated abruptly, the process pool is not usable anymore",
     "output_type": "error",
     "traceback": [
      "\u001b[1;31m---------------------------------------------------------------------------\u001b[0m",
      "\u001b[1;31mBrokenProcessPool\u001b[0m                         Traceback (most recent call last)",
      "Cell \u001b[1;32mIn[8], line 3\u001b[0m\n\u001b[0;32m      1\u001b[0m \u001b[38;5;28mprint\u001b[39m(h_val)\n\u001b[1;32m----> 3\u001b[0m X, r \u001b[38;5;241m=\u001b[39m \u001b[43mgen_pre_table_parallel\u001b[49m\u001b[43m(\u001b[49m\u001b[43mK_test\u001b[49m\u001b[43m,\u001b[49m\u001b[43m \u001b[49m\u001b[43mL_test\u001b[49m\u001b[43m)\u001b[49m\n\u001b[0;32m      4\u001b[0m \u001b[38;5;28mprint\u001b[39m(X)\n\u001b[0;32m      5\u001b[0m \u001b[38;5;28mprint\u001b[39m(\u001b[38;5;124m\"\u001b[39m\u001b[38;5;124mTable rdy!\u001b[39m\u001b[38;5;124m\"\u001b[39m)\n",
      "Cell \u001b[1;32mIn[6], line 32\u001b[0m, in \u001b[0;36mgen_pre_table_parallel\u001b[1;34m(K, L)\u001b[0m\n\u001b[0;32m     29\u001b[0m \u001b[38;5;28;01mwith\u001b[39;00m Manager() \u001b[38;5;28;01mas\u001b[39;00m mng:\n\u001b[0;32m     30\u001b[0m     m_dict \u001b[38;5;241m=\u001b[39m mng\u001b[38;5;241m.\u001b[39mdict()\n\u001b[1;32m---> 32\u001b[0m     \u001b[43mrun_cpu_tasks_in_parallel\u001b[49m\u001b[43m(\u001b[49m\u001b[43m[\u001b[49m\u001b[43mappend_value\u001b[49m\u001b[43m]\u001b[49m\u001b[38;5;241;43m*\u001b[39;49m\u001b[43mK\u001b[49m\u001b[43m,\u001b[49m\u001b[43m \u001b[49m\u001b[43mm_dict\u001b[49m\u001b[43m,\u001b[49m\u001b[43m \u001b[49m\u001b[43mL\u001b[49m\u001b[43m,\u001b[49m\u001b[43m \u001b[49m\u001b[43mr\u001b[49m\u001b[43m)\u001b[49m\n\u001b[0;32m     33\u001b[0m     \u001b[38;5;28mprint\u001b[39m(m_dict)\n\u001b[0;32m     34\u001b[0m     X \u001b[38;5;241m=\u001b[39m m_dict\u001b[38;5;241m.\u001b[39mcopy()\n",
      "Cell \u001b[1;32mIn[6], line 8\u001b[0m, in \u001b[0;36mrun_cpu_tasks_in_parallel\u001b[1;34m(tasks, *parameters)\u001b[0m\n\u001b[0;32m      6\u001b[0m \u001b[38;5;28mprint\u001b[39m(\u001b[38;5;241m*\u001b[39mparameters)\n\u001b[0;32m      7\u001b[0m \u001b[38;5;28;01mwith\u001b[39;00m ProcessPoolExecutor() \u001b[38;5;28;01mas\u001b[39;00m executor:\n\u001b[1;32m----> 8\u001b[0m     running_tasks \u001b[38;5;241m=\u001b[39m \u001b[43m[\u001b[49m\u001b[43mexecutor\u001b[49m\u001b[38;5;241;43m.\u001b[39;49m\u001b[43msubmit\u001b[49m\u001b[43m(\u001b[49m\u001b[43mtask\u001b[49m\u001b[43m,\u001b[49m\u001b[43m \u001b[49m\u001b[38;5;241;43m*\u001b[39;49m\u001b[43mparameters\u001b[49m\u001b[43m)\u001b[49m\u001b[43m \u001b[49m\u001b[38;5;28;43;01mfor\u001b[39;49;00m\u001b[43m \u001b[49m\u001b[43mtask\u001b[49m\u001b[43m \u001b[49m\u001b[38;5;129;43;01min\u001b[39;49;00m\u001b[43m \u001b[49m\u001b[43mtasks\u001b[49m\u001b[43m]\u001b[49m\n\u001b[0;32m      9\u001b[0m     \u001b[38;5;28;01mfor\u001b[39;00m running_task \u001b[38;5;129;01min\u001b[39;00m running_tasks:\n\u001b[0;32m     10\u001b[0m         running_task\u001b[38;5;241m.\u001b[39mresult()\n",
      "Cell \u001b[1;32mIn[6], line 8\u001b[0m, in \u001b[0;36m<listcomp>\u001b[1;34m(.0)\u001b[0m\n\u001b[0;32m      6\u001b[0m \u001b[38;5;28mprint\u001b[39m(\u001b[38;5;241m*\u001b[39mparameters)\n\u001b[0;32m      7\u001b[0m \u001b[38;5;28;01mwith\u001b[39;00m ProcessPoolExecutor() \u001b[38;5;28;01mas\u001b[39;00m executor:\n\u001b[1;32m----> 8\u001b[0m     running_tasks \u001b[38;5;241m=\u001b[39m [\u001b[43mexecutor\u001b[49m\u001b[38;5;241;43m.\u001b[39;49m\u001b[43msubmit\u001b[49m\u001b[43m(\u001b[49m\u001b[43mtask\u001b[49m\u001b[43m,\u001b[49m\u001b[43m \u001b[49m\u001b[38;5;241;43m*\u001b[39;49m\u001b[43mparameters\u001b[49m\u001b[43m)\u001b[49m \u001b[38;5;28;01mfor\u001b[39;00m task \u001b[38;5;129;01min\u001b[39;00m tasks]\n\u001b[0;32m      9\u001b[0m     \u001b[38;5;28;01mfor\u001b[39;00m running_task \u001b[38;5;129;01min\u001b[39;00m running_tasks:\n\u001b[0;32m     10\u001b[0m         running_task\u001b[38;5;241m.\u001b[39mresult()\n",
      "File \u001b[1;32mc:\\Users\\Lollo\\AppData\\Local\\Programs\\Python\\Python311\\Lib\\concurrent\\futures\\process.py:770\u001b[0m, in \u001b[0;36mProcessPoolExecutor.submit\u001b[1;34m(self, fn, *args, **kwargs)\u001b[0m\n\u001b[0;32m    768\u001b[0m \u001b[38;5;28;01mwith\u001b[39;00m \u001b[38;5;28mself\u001b[39m\u001b[38;5;241m.\u001b[39m_shutdown_lock:\n\u001b[0;32m    769\u001b[0m     \u001b[38;5;28;01mif\u001b[39;00m \u001b[38;5;28mself\u001b[39m\u001b[38;5;241m.\u001b[39m_broken:\n\u001b[1;32m--> 770\u001b[0m         \u001b[38;5;28;01mraise\u001b[39;00m BrokenProcessPool(\u001b[38;5;28mself\u001b[39m\u001b[38;5;241m.\u001b[39m_broken)\n\u001b[0;32m    771\u001b[0m     \u001b[38;5;28;01mif\u001b[39;00m \u001b[38;5;28mself\u001b[39m\u001b[38;5;241m.\u001b[39m_shutdown_thread:\n\u001b[0;32m    772\u001b[0m         \u001b[38;5;28;01mraise\u001b[39;00m \u001b[38;5;167;01mRuntimeError\u001b[39;00m(\u001b[38;5;124m'\u001b[39m\u001b[38;5;124mcannot schedule new futures after shutdown\u001b[39m\u001b[38;5;124m'\u001b[39m)\n",
      "\u001b[1;31mBrokenProcessPool\u001b[0m: A child process terminated abruptly, the process pool is not usable anymore"
     ]
    }
   ],
   "source": [
    "print(h_val)\n",
    "\n",
    "X, r = gen_pre_table_parallel(K_test, L_test)\n",
    "print(X)\n",
    "print(\"Table rdy!\")\n",
    "preimage, found = find_preimage(L_test, X, r, h_val)\n",
    "\n",
    "if found:\n",
    "    print(preimage)\n",
    "    print(h_n_bytes(preimage))\n",
    "else:\n",
    "    print(\"No succ? :(\")"
   ]
  },
  {
   "cell_type": "markdown",
   "metadata": {},
   "source": [
    "# Атака 1 (одна таблиця)"
   ]
  },
  {
   "cell_type": "code",
   "execution_count": null,
   "metadata": {},
   "outputs": [],
   "source": [
    "K_arr = [2**20, 2**22, 2**24]\n",
    "L_arr = [2**10, 2**11, 2**12]"
   ]
  },
  {
   "cell_type": "markdown",
   "metadata": {},
   "source": [
    "# Атака 2 (K таблиць)"
   ]
  },
  {
   "cell_type": "code",
   "execution_count": null,
   "metadata": {},
   "outputs": [],
   "source": [
    "K_arr = [2**10, 2**11, 2**12]\n",
    "L_arr = [2**10, 2**11, 2**12]"
   ]
  }
 ],
 "metadata": {
  "kernelspec": {
   "display_name": "Python 3",
   "language": "python",
   "name": "python3"
  },
  "language_info": {
   "codemirror_mode": {
    "name": "ipython",
    "version": 3
   },
   "file_extension": ".py",
   "mimetype": "text/x-python",
   "name": "python",
   "nbconvert_exporter": "python",
   "pygments_lexer": "ipython3",
   "version": "3.11.4"
  }
 },
 "nbformat": 4,
 "nbformat_minor": 2
}
